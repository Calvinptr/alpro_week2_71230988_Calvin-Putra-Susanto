{
 "cells": [
  {
   "cell_type": "code",
   "execution_count": 3,
   "id": "dc47adaa",
   "metadata": {},
   "outputs": [
    {
     "name": "stdout",
     "output_type": "stream",
     "text": [
      "masukkan tinggi badan (dalam meter) = 1.7\n",
      "masukkan BMI badan = 20\n",
      "57.8 kg\n"
     ]
    }
   ],
   "source": [
    "tinggi = float(input(\"masukkan tinggi badan (dalam meter) = \"))\n",
    "BMI = float(input(\"masukkan BMI badan = \"))\n",
    "\n",
    "berat = BMI *   tinggi **2\n",
    "\n",
    "print (berat, \"kg\")"
   ]
  },
  {
   "cell_type": "code",
   "execution_count": 4,
   "id": "13cbf6be",
   "metadata": {},
   "outputs": [
    {
     "name": "stdout",
     "output_type": "stream",
     "text": [
      "masukkan bilangan x = 5\n",
      "263.0\n"
     ]
    }
   ],
   "source": [
    "x = int(input(\"masukkan bilangan x = \"))\n",
    "rumus = 2*x**3 + 2*x + 15/x\n",
    "print (rumus)"
   ]
  },
  {
   "cell_type": "code",
   "execution_count": 7,
   "id": "9e1938af",
   "metadata": {},
   "outputs": [
    {
     "name": "stdout",
     "output_type": "stream",
     "text": [
      "Masukkan gaji yang anda inginkan : \n",
      "70000\n",
      "Masukkan jam kerja dalam 1 minggu : \n",
      "30\n",
      "gaji dalam seminggu: Rp. 10500000\n",
      "gaji setelah kena pajak:Rp. 9030000\n",
      "biaya baju:Rp. 903000\n",
      "biaya alat tulis:Rp. 90300\n",
      "biaya untuk disedekahkan:Rp. 2009175\n",
      "jumlah uang yang diterima anak yatim:Rp. 602700\n",
      "jumlah uang yang diterima kaum Dhuafa:Rp.  1406475\n"
     ]
    }
   ],
   "source": [
    "gaji = int(input(\"Masukkan gaji yang anda inginkan : \\n\"))\n",
    "jamKerja = int(input(\"Masukkan jam kerja dalam 1 minggu : \\n\"))\n",
    "\n",
    "gajiSeminggu = gaji * jamKerja * 5\n",
    "Pajak = gajiSeminggu * 14/100\n",
    "gajiKenaPajak = gajiSeminggu - Pajak\n",
    "biayaBaju = gajiKenaPajak * 10/100\n",
    "biayaAlatTulis = gajiKenaPajak * 1/100\n",
    "sisaUang = gajiKenaPajak - (biayaBaju + biayaAlatTulis) \n",
    "Sedekah = sisaUang * 25/100\n",
    "pembulatan = round(Sedekah/1000)*1000\n",
    "uangDiterimaYatim = pembulatan * 30/100\n",
    "uangDiterimaDhuafa = Sedekah - uangDiterimaYatim\n",
    "\n",
    "\n",
    "print(\"gaji dalam seminggu: Rp.\", gajiSeminggu)\n",
    "print(\"gaji setelah kena pajak:Rp.\", round(gajiKenaPajak))\n",
    "print(\"biaya baju:Rp.\", round(biayaBaju))\n",
    "print(\"biaya alat tulis:Rp.\", round(biayaAlatTulis))\n",
    "print(\"biaya untuk disedekahkan:Rp.\", round(Sedekah))\n",
    "print(\"jumlah uang yang diterima anak yatim:Rp.\", round(uangDiterimaYatim))\n",
    "print(\"jumlah uang yang diterima kaum Dhuafa:Rp. \", round(uangDiterimaDhuafa))\n"
   ]
  },
  {
   "cell_type": "code",
   "execution_count": null,
   "id": "9d4de1eb",
   "metadata": {},
   "outputs": [],
   "source": []
  }
 ],
 "metadata": {
  "kernelspec": {
   "display_name": "Python 3 (ipykernel)",
   "language": "python",
   "name": "python3"
  },
  "language_info": {
   "codemirror_mode": {
    "name": "ipython",
    "version": 3
   },
   "file_extension": ".py",
   "mimetype": "text/x-python",
   "name": "python",
   "nbconvert_exporter": "python",
   "pygments_lexer": "ipython3",
   "version": "3.11.5"
  }
 },
 "nbformat": 4,
 "nbformat_minor": 5
}
